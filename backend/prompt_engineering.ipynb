{
 "cells": [
  {
   "cell_type": "code",
   "execution_count": 1,
   "id": "9174d24a-8705-4882-aeb8-1f9549a60e82",
   "metadata": {},
   "outputs": [],
   "source": [
    "import getpass\n",
    "\n",
    "from helm.common.authentication import Authentication\n",
    "from helm.common.perspective_api_request import PerspectiveAPIRequest, PerspectiveAPIRequestResult\n",
    "from helm.common.request import Request, RequestResult\n",
    "from helm.common.tokenization_request import TokenizationRequest, TokenizationRequestResult\n",
    "from helm.proxy.accounts import Account\n",
    "from helm.proxy.services.remote_service import RemoteService"
   ]
  },
  {
   "cell_type": "code",
   "execution_count": 2,
   "id": "6f5bdb48-655a-40f1-b7a6-904c1ed5d633",
   "metadata": {},
   "outputs": [
    {
     "name": "stdout",
     "output_type": "stream",
     "text": [
      "{'gpt3': {'daily': Usage(period=None, used=0, quota=None), 'monthly': Usage(period=None, used=0, quota=None), 'total': Usage(period=None, used=0, quota=1250000)}, 'codex': {'daily': Usage(period=None, used=0, quota=0)}, 'jurassic': {'daily': Usage(period=None, used=0, quota=0)}, 'gooseai': {'daily': Usage(period=None, used=0, quota=0)}, 'cohere': {'daily': Usage(period=None, used=0, quota=10000)}, 'dall_e': {'daily': Usage(period=None, used=0, quota=5)}, 'together_vision': {'daily': Usage(period=None, used=0, quota=30)}}\n"
     ]
    }
   ],
   "source": [
    "# An example of how to use the request API.\n",
    "api_key = getpass.getpass(prompt=\"Enter a valid API key: \")\n",
    "auth = Authentication(api_key=api_key)\n",
    "service = RemoteService(\"https://crfm-models.stanford.edu\")\n",
    "\n",
    "# Access account and show my current quotas and usages\n",
    "account: Account = service.get_account(auth)\n",
    "print(account.usages)"
   ]
  },
  {
   "cell_type": "code",
   "execution_count": 5,
   "id": "6e99377b-75f9-48e5-bc96-6b1e07f62dfa",
   "metadata": {},
   "outputs": [
    {
     "name": "stdout",
     "output_type": "stream",
     "text": [
      "Generate a passage to help teach second graders how to read with decodable text. The purpose of this reading is to reinforce the understanding of the phonemes in 'ing'. Generate a coherent short story with a lot of 'ing' words that a teacher can use.\n",
      "\n",
      "Once upon a time there was a little pig named Bing. He lived on a farm with his three brothers, King, Ring, and Ding.\n",
      "\n",
      "Bing loved to sing and play games, but his brothers weren't very into singing. They preferred to swing and ring bells.\n",
      "\n",
      "One summer day, the brothers decided to go fishing in the pond. Bing was excited to catch some fish, but his brothers were more interested in sending their tiny toy boats sailing around the pond.\n"
     ]
    }
   ],
   "source": [
    "prompt = \"Generate a passage to help teach second graders how to read with decodable text. The purpose of this reading is to reinforce the understanding of the phonemes in 'ing'. Generate a coherent short story with a lot of 'ing' words that a teacher can use.\"\n",
    "\n",
    "# Make a request\n",
    "request = Request(model=\"openai/text-davinci-003\", prompt=prompt, echo_prompt=True)\n",
    "request_result: RequestResult = service.make_request(auth, request)\n",
    "print(request_result.completions[0].text)"
   ]
  },
  {
   "cell_type": "code",
   "execution_count": 10,
   "id": "d76419ce-2974-4541-a7d9-9a3157cfc06e",
   "metadata": {},
   "outputs": [
    {
     "name": "stdout",
     "output_type": "stream",
     "text": [
      "Generate a passage to help teach second graders how to read with decodable text. The purpose of this reading is to reinforce the understanding of the phonemes in 'ing'. Generate a coherent story with a lot of 'ing' words that a teacher can use.\n",
      "\n",
      "Once upon a time there was a brave knight named King who lived in a castle far, far away. His kingdom was known as the Kingdom of Wing. King was a kind-hearted knight who cared deeply for his people. He wanted to make sure they were safe and happy. \n",
      "\n",
      "Every day, King went on patrols around the borders of his kingdom to keep it safe. He rode his horse, Ring, and had his trusty sword, Sting. He would travel along the\n"
     ]
    }
   ],
   "source": [
    "prompt = \"Generate a passage to help teach second graders how to read with decodable text. The purpose of this reading is to reinforce the understanding of the phonemes in 'ing'. Generate a coherent story with a lot of 'ing' words that a teacher can use.\"\n",
    "\n",
    "# Make a request\n",
    "request = Request(model=\"openai/text-davinci-003\", prompt=prompt, echo_prompt=True)\n",
    "request_result: RequestResult = service.make_request(auth, request)\n",
    "print(request_result.completions[0].text)"
   ]
  },
  {
   "cell_type": "code",
   "execution_count": 13,
   "id": "ddb6b2a2-2fc0-45af-b2aa-1778ef01aac8",
   "metadata": {
    "collapsed": true,
    "jupyter": {
     "outputs_hidden": true
    },
    "tags": []
   },
   "outputs": [
    {
     "name": "stdout",
     "output_type": "stream",
     "text": [
      "Generate a passage to help teach second graders how to read with decodable text. The purpose of this reading is to reinforce the understanding of the phonemes in 'ing'. Generate a coherent story with many 'ing' words that a teacher can use. Complete the following story with the aforementioned requirements: Once upon a time there was a brave knight named King who lived in a castle far, far away. His kingdom was known as the Kingdom of Wing. King was a kind-hearted knight who cared deeply for his people. He wanted to make sure they were safe and happy. Every day, King went on patrols around the borders of his kingdom to keep it safe. He rode his horse, Ring, and had his trusty sword, Sting. He would travel along the winding paths and through the tall rolling hills. As he rode, he could hear the birds singing, the wind whistling, and the water flowing. He noticed that the flowers in his kingdom were blooming and the grass was growing. Everywhere he looked, he saw animals and plants living in harmony. All the creatures just seemed to know that King was their protector. When he returned to his castle, King was always ready to read to his people. He wanted to help them learn to read, so\n"
     ]
    }
   ],
   "source": [
    "prompt = \"Generate a passage to help teach second graders how to read with decodable text. The purpose of this reading is to reinforce the understanding of the phonemes in 'ing'. Generate a coherent story with many 'ing' words that a teacher can use. Complete the following story with the aforementioned requirements: Once upon a time there was a brave knight named King who lived in a castle far, far away. His kingdom was known as the Kingdom of Wing. King was a kind-hearted knight who cared deeply for his people. He wanted to make sure they were safe and happy. Every day, King went on patrols around the borders of his kingdom to keep it safe. He rode his horse, Ring, and had his trusty sword, Sting. He would travel along the\"\n",
    "\n",
    "# Make a request\n",
    "request = Request(model=\"openai/text-davinci-003\", prompt=prompt, echo_prompt=True)\n",
    "request_result: RequestResult = service.make_request(auth, request)\n",
    "print(request_result.completions[0].text)"
   ]
  },
  {
   "cell_type": "code",
   "execution_count": 1,
   "id": "864ac5a1-5f25-4c59-9e29-f879025de705",
   "metadata": {},
   "outputs": [
    {
     "ename": "NameError",
     "evalue": "name 'TokenizationRequest' is not defined",
     "output_type": "error",
     "traceback": [
      "\u001B[0;31m---------------------------------------------------------------------------\u001B[0m",
      "\u001B[0;31mNameError\u001B[0m                                 Traceback (most recent call last)",
      "Cell \u001B[0;32mIn[1], line 2\u001B[0m\n\u001B[1;32m      1\u001B[0m \u001B[38;5;66;03m# Tokenize\u001B[39;00m\n\u001B[0;32m----> 2\u001B[0m request \u001B[38;5;241m=\u001B[39m \u001B[43mTokenizationRequest\u001B[49m(tokenizer\u001B[38;5;241m=\u001B[39m\u001B[38;5;124m\"\u001B[39m\u001B[38;5;124mai21/j1-jumbo\u001B[39m\u001B[38;5;124m\"\u001B[39m, text\u001B[38;5;241m=\u001B[39m\u001B[38;5;124m\"\u001B[39m\u001B[38;5;124mTokenize me please.\u001B[39m\u001B[38;5;124m\"\u001B[39m)\n\u001B[1;32m      3\u001B[0m tokenization_request_result: TokenizationRequestResult \u001B[38;5;241m=\u001B[39m service\u001B[38;5;241m.\u001B[39mtokenize(auth, request)\n\u001B[1;32m      4\u001B[0m \u001B[38;5;28mprint\u001B[39m(\u001B[38;5;124mf\u001B[39m\u001B[38;5;124m\"\u001B[39m\u001B[38;5;124mNumber of tokens: \u001B[39m\u001B[38;5;132;01m{\u001B[39;00m\u001B[38;5;28mlen\u001B[39m(tokenization_request_result\u001B[38;5;241m.\u001B[39mtokens)\u001B[38;5;132;01m}\u001B[39;00m\u001B[38;5;124m\"\u001B[39m)\n",
      "\u001B[0;31mNameError\u001B[0m: name 'TokenizationRequest' is not defined"
     ]
    }
   ],
   "source": [
    "# Tokenize\n",
    "request = TokenizationRequest(tokenizer=\"ai21/j1-jumbo\", text=\"Tokenize me please.\")\n",
    "tokenization_request_result: TokenizationRequestResult = service.tokenize(auth, request)\n",
    "print(f\"Number of tokens: {len(tokenization_request_result.tokens)}\")"
   ]
  },
  {
   "cell_type": "code",
   "execution_count": null,
   "id": "0bbdb23f-597a-4647-b494-c1653100e534",
   "metadata": {},
   "outputs": [],
   "source": [
    "# Calculate toxicity scores\n",
    "text = \"you suck.\"\n",
    "request = PerspectiveAPIRequest(text_batch=[text])\n",
    "perspective_request_result: PerspectiveAPIRequestResult = service.get_toxicity_scores(auth, request)\n",
    "print(f\"{text} - toxicity score: {perspective_request_result.text_to_toxicity_attributes[text].toxicity_score}\")"
   ]
  }
 ],
 "metadata": {
  "kernelspec": {
   "display_name": "Python 3 (ipykernel)",
   "language": "python",
   "name": "python3"
  },
  "language_info": {
   "codemirror_mode": {
    "name": "ipython",
    "version": 3
   },
   "file_extension": ".py",
   "mimetype": "text/x-python",
   "name": "python",
   "nbconvert_exporter": "python",
   "pygments_lexer": "ipython3",
   "version": "3.8.16"
  }
 },
 "nbformat": 4,
 "nbformat_minor": 5
}
