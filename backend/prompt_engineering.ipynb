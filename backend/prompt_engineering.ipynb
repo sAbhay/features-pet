{
 "cells": [
  {
   "cell_type": "code",
   "execution_count": 2,
   "id": "9174d24a-8705-4882-aeb8-1f9549a60e82",
   "metadata": {},
   "outputs": [
    {
     "name": "stdout",
     "output_type": "stream",
     "text": [
      "{'gpt3': {'daily': Usage(period='2023-2-27', used=312, quota=None), 'monthly': Usage(period='2023-2', used=2610, quota=None), 'total': Usage(period='all', used=2610, quota=1250000)}, 'codex': {'daily': Usage(period=None, used=0, quota=0)}, 'jurassic': {'daily': Usage(period=None, used=0, quota=0)}, 'gooseai': {'daily': Usage(period=None, used=0, quota=0)}, 'cohere': {'daily': Usage(period=None, used=0, quota=10000)}, 'dall_e': {'daily': Usage(period=None, used=0, quota=5)}, 'together_vision': {'daily': Usage(period=None, used=0, quota=30)}}\n"
     ]
    }
   ],
   "source": [
    "import api_gen\n",
    "import verify"
   ]
  },
  {
   "cell_type": "code",
   "execution_count": 6,
   "outputs": [
    {
     "name": "stdout",
     "output_type": "stream",
     "text": [
      "\n",
      "\n",
      "Once Pam saw Off.\n",
      "My dad had a fan.\n",
      "She was sad and ran.\n",
      "But then she saw an old man.\n",
      "He dug and dug with a can.\n",
      "He had a chug, it was his plan.\n",
      "The ship was near, it was thin.\n",
      "Dad had a dog, it could swim.\n",
      "He had a bed, filled with hay.\n",
      "Pam liked to play in the bay.\n",
      "\n",
      "It was fun to fill the cup\n"
     ]
    }
   ],
   "source": [
    "prompt = \"Create a decodable text passage of approximately 200 words. Each word should have a maximum of 2 syllables. The lexile level should be: 200. The passage should help readers learn the following: Words with short vowel sounds (like dog, bed, cat, cup, and dig), consonant digraphs (like chug, ship, and thin), and -am and-an words (like ham, fan, man, and Pam) . The following words are sight words: off, my, has.\"\n",
    "\n",
    "passage = api_gen.generate_from_prompt(prompt)\n",
    "print(passage)"
   ],
   "metadata": {
    "collapsed": false
   }
  },
  {
   "cell_type": "code",
   "execution_count": 4,
   "outputs": [
    {
     "name": "stdout",
     "output_type": "stream",
     "text": [
      "wəns pæm sɔ ɔf. maɪ dæd hæd ə fæn. ʃi wɑz sæd ənd ræn. bət ðɛn ʃi sɔ ən oʊld mæn. hi dəg ənd dəg wɪθ ə kən. hi hæd ə ʧəg, ɪt wɑz hɪz plæn. ðə ʃɪp wɑz nɪr, ɪt wɑz θɪn. dæd hæd ə dɔg, ɪt kʊd swɪm. hi hæd ə bɛd, fɪld wɪθ heɪ. pæm laɪkt tɪ pleɪ ɪn ðə beɪ. ɪt wɑz fən tɪ fɪl ðə kəp\n"
     ]
    }
   ],
   "source": [
    "phonemes = verify.to_phoneme_list(passage)\n",
    "print(phonemes)"
   ],
   "metadata": {
    "collapsed": false
   }
  },
  {
   "cell_type": "code",
   "execution_count": null,
   "outputs": [],
   "source": [
    "ipa = verify.to_phoneme_ipa(passage)\n",
    "print(ipa)"
   ],
   "metadata": {
    "collapsed": false
   }
  }
 ],
 "metadata": {
  "kernelspec": {
   "display_name": "Python 3 (ipykernel)",
   "language": "python",
   "name": "python3"
  },
  "language_info": {
   "codemirror_mode": {
    "name": "ipython",
    "version": 3
   },
   "file_extension": ".py",
   "mimetype": "text/x-python",
   "name": "python",
   "nbconvert_exporter": "python",
   "pygments_lexer": "ipython3",
   "version": "3.8.16"
  }
 },
 "nbformat": 4,
 "nbformat_minor": 5
}
