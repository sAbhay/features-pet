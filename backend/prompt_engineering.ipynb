{
 "cells": [
  {
   "cell_type": "code",
   "execution_count": 1,
   "id": "9174d24a-8705-4882-aeb8-1f9549a60e82",
   "metadata": {},
   "outputs": [
    {
     "name": "stdout",
     "output_type": "stream",
     "text": [
      "{'gpt3': {'daily': Usage(period='2023-3-12', used=110, quota=None), 'monthly': Usage(period='2023-3', used=212, quota=None), 'total': Usage(period='all', used=3028, quota=1250000)}, 'codex': {'daily': Usage(period=None, used=0, quota=0)}, 'jurassic': {'daily': Usage(period=None, used=0, quota=0)}, 'gooseai': {'daily': Usage(period=None, used=0, quota=0)}, 'cohere': {'daily': Usage(period=None, used=0, quota=10000)}, 'dall_e': {'daily': Usage(period=None, used=0, quota=5)}, 'together_vision': {'daily': Usage(period=None, used=0, quota=30)}}\n"
     ]
    }
   ],
   "source": [
    "import api_gen\n",
    "import verify"
   ]
  },
  {
   "cell_type": "code",
   "execution_count": 2,
   "outputs": [
    {
     "ename": "RemoteServiceError",
     "evalue": "Failed to make request to openai after retrying 4 times. Error: ChatGPT error: local variable 'driver' referenced before assignment Request: {\"model\": \"openai/chat-gpt\", \"embedding\": false, \"prompt\": \"Create a decodable text passage of approximately 200 words. Each word should have a maximum of 2 syllables. The lexile level should be: 200. The passage should help readers learn the following: Words with short vowel sounds (like dog, bed, cat, cup, and dig), consonant digraphs (like chug, ship, and thin), and -am and-an words (like ham, fan, man, and Pam) . The following words are sight words: off, my, has.\", \"temperature\": 1.0, \"num_completions\": 1, \"top_k_per_token\": 1, \"max_tokens\": 100, \"stop_sequences\": [], \"echo_prompt\": false, \"top_p\": 1, \"presence_penalty\": 0, \"frequency_penalty\": 0, \"random\": null}",
     "output_type": "error",
     "traceback": [
      "\u001B[0;31m---------------------------------------------------------------------------\u001B[0m",
      "\u001B[0;31mRemoteServiceError\u001B[0m                        Traceback (most recent call last)",
      "Cell \u001B[0;32mIn[2], line 3\u001B[0m\n\u001B[1;32m      1\u001B[0m prompt \u001B[38;5;241m=\u001B[39m \u001B[38;5;124m\"\u001B[39m\u001B[38;5;124mCreate a decodable text passage of approximately 200 words. Each word should have a maximum of 2 syllables. The lexile level should be: 200. The passage should help readers learn the following: Words with short vowel sounds (like dog, bed, cat, cup, and dig), consonant digraphs (like chug, ship, and thin), and -am and-an words (like ham, fan, man, and Pam) . The following words are sight words: off, my, has.\u001B[39m\u001B[38;5;124m\"\u001B[39m\n\u001B[0;32m----> 3\u001B[0m passage \u001B[38;5;241m=\u001B[39m \u001B[43mapi_gen\u001B[49m\u001B[38;5;241;43m.\u001B[39;49m\u001B[43mgenerate_from_prompt\u001B[49m\u001B[43m(\u001B[49m\u001B[43mprompt\u001B[49m\u001B[43m)\u001B[49m\n\u001B[1;32m      4\u001B[0m \u001B[38;5;28mprint\u001B[39m(passage)\n",
      "File \u001B[0;32m~/Documents/Documents - Abhay’s MacBook Pro/Projects/features-pet/backend/api_gen.py:24\u001B[0m, in \u001B[0;36mgenerate_from_prompt\u001B[0;34m(prompt)\u001B[0m\n\u001B[1;32m     21\u001B[0m \u001B[38;5;28;01mdef\u001B[39;00m \u001B[38;5;21mgenerate_from_prompt\u001B[39m(prompt):\n\u001B[1;32m     22\u001B[0m   \u001B[38;5;66;03m# Make a request\u001B[39;00m\n\u001B[1;32m     23\u001B[0m   request \u001B[38;5;241m=\u001B[39m Request(model\u001B[38;5;241m=\u001B[39m\u001B[38;5;124m\"\u001B[39m\u001B[38;5;124mopenai/text-davinci-003\u001B[39m\u001B[38;5;124m\"\u001B[39m, prompt\u001B[38;5;241m=\u001B[39mprompt, echo_prompt\u001B[38;5;241m=\u001B[39m\u001B[38;5;28;01mFalse\u001B[39;00m)\n\u001B[0;32m---> 24\u001B[0m   request_result: RequestResult \u001B[38;5;241m=\u001B[39m \u001B[43mservice\u001B[49m\u001B[38;5;241;43m.\u001B[39;49m\u001B[43mmake_request\u001B[49m\u001B[43m(\u001B[49m\u001B[43mauth\u001B[49m\u001B[43m,\u001B[49m\u001B[43m \u001B[49m\u001B[43mrequest\u001B[49m\u001B[43m)\u001B[49m\n\u001B[1;32m     25\u001B[0m   \u001B[38;5;28;01mreturn\u001B[39;00m request_result\u001B[38;5;241m.\u001B[39mcompletions[\u001B[38;5;241m0\u001B[39m]\u001B[38;5;241m.\u001B[39mtext\n",
      "File \u001B[0;32m~/opt/anaconda3/envs/decodable-text/lib/python3.8/site-packages/helm/proxy/services/remote_service.py:57\u001B[0m, in \u001B[0;36mRemoteService.make_request\u001B[0;34m(self, auth, request)\u001B[0m\n\u001B[1;32m     52\u001B[0m params \u001B[38;5;241m=\u001B[39m {\n\u001B[1;32m     53\u001B[0m     \u001B[38;5;124m\"\u001B[39m\u001B[38;5;124mauth\u001B[39m\u001B[38;5;124m\"\u001B[39m: json\u001B[38;5;241m.\u001B[39mdumps(asdict(auth)),\n\u001B[1;32m     54\u001B[0m     \u001B[38;5;124m\"\u001B[39m\u001B[38;5;124mrequest\u001B[39m\u001B[38;5;124m\"\u001B[39m: request_json,\n\u001B[1;32m     55\u001B[0m }\n\u001B[1;32m     56\u001B[0m response \u001B[38;5;241m=\u001B[39m requests\u001B[38;5;241m.\u001B[39mget(\u001B[38;5;124mf\u001B[39m\u001B[38;5;124m\"\u001B[39m\u001B[38;5;132;01m{\u001B[39;00m\u001B[38;5;28mself\u001B[39m\u001B[38;5;241m.\u001B[39mbase_url\u001B[38;5;132;01m}\u001B[39;00m\u001B[38;5;124m/api/request?\u001B[39m\u001B[38;5;132;01m{\u001B[39;00murllib\u001B[38;5;241m.\u001B[39mparse\u001B[38;5;241m.\u001B[39murlencode(params)\u001B[38;5;132;01m}\u001B[39;00m\u001B[38;5;124m\"\u001B[39m)\u001B[38;5;241m.\u001B[39mjson()\n\u001B[0;32m---> 57\u001B[0m \u001B[43mRemoteService\u001B[49m\u001B[38;5;241;43m.\u001B[39;49m\u001B[43m_check_response\u001B[49m\u001B[43m(\u001B[49m\u001B[43mresponse\u001B[49m\u001B[43m,\u001B[49m\u001B[43m \u001B[49m\u001B[43mrequest_json\u001B[49m\u001B[43m)\u001B[49m\n\u001B[1;32m     58\u001B[0m \u001B[38;5;28;01mreturn\u001B[39;00m from_dict(RequestResult, response)\n",
      "File \u001B[0;32m~/opt/anaconda3/envs/decodable-text/lib/python3.8/site-packages/helm/proxy/services/remote_service.py:38\u001B[0m, in \u001B[0;36mRemoteService._check_response\u001B[0;34m(response, request)\u001B[0m\n\u001B[1;32m     35\u001B[0m \u001B[38;5;28;01mif\u001B[39;00m request:\n\u001B[1;32m     36\u001B[0m     error_message \u001B[38;5;241m+\u001B[39m\u001B[38;5;241m=\u001B[39m \u001B[38;5;124mf\u001B[39m\u001B[38;5;124m\"\u001B[39m\u001B[38;5;124m Request: \u001B[39m\u001B[38;5;132;01m{\u001B[39;00mrequest\u001B[38;5;132;01m}\u001B[39;00m\u001B[38;5;124m\"\u001B[39m\n\u001B[0;32m---> 38\u001B[0m \u001B[38;5;28;01mraise\u001B[39;00m RemoteServiceError(error_message)\n",
      "\u001B[0;31mRemoteServiceError\u001B[0m: Failed to make request to openai after retrying 4 times. Error: ChatGPT error: local variable 'driver' referenced before assignment Request: {\"model\": \"openai/chat-gpt\", \"embedding\": false, \"prompt\": \"Create a decodable text passage of approximately 200 words. Each word should have a maximum of 2 syllables. The lexile level should be: 200. The passage should help readers learn the following: Words with short vowel sounds (like dog, bed, cat, cup, and dig), consonant digraphs (like chug, ship, and thin), and -am and-an words (like ham, fan, man, and Pam) . The following words are sight words: off, my, has.\", \"temperature\": 1.0, \"num_completions\": 1, \"top_k_per_token\": 1, \"max_tokens\": 100, \"stop_sequences\": [], \"echo_prompt\": false, \"top_p\": 1, \"presence_penalty\": 0, \"frequency_penalty\": 0, \"random\": null}"
     ]
    }
   ],
   "source": [
    "prompt = \"Create a decodable text passage of approximately 200 words. Each word should have a maximum of 2 syllables. The lexile level should be: 200. The passage should help readers learn the following: Words with short vowel sounds (like dog, bed, cat, cup, and dig), consonant digraphs (like chug, ship, and thin), and -am and-an words (like ham, fan, man, and Pam) . The following words are sight words: off, my, has.\"\n",
    "\n",
    "passage = api_gen.generate_from_prompt(prompt)\n",
    "print(passage)"
   ],
   "metadata": {
    "collapsed": false
   }
  },
  {
   "cell_type": "code",
   "execution_count": null,
   "outputs": [],
   "source": [
    "phonemes = verify.to_phoneme_list(passage)\n",
    "print(phonemes)"
   ],
   "metadata": {
    "collapsed": false
   }
  },
  {
   "cell_type": "code",
   "execution_count": null,
   "outputs": [],
   "source": [
    "ipa = verify.to_phoneme_ipa(passage)\n",
    "print(ipa)"
   ],
   "metadata": {
    "collapsed": false
   }
  },
  {
   "cell_type": "code",
   "execution_count": null,
   "outputs": [],
   "source": [],
   "metadata": {
    "collapsed": false
   }
  }
 ],
 "metadata": {
  "kernelspec": {
   "display_name": "Python 3 (ipykernel)",
   "language": "python",
   "name": "python3"
  },
  "language_info": {
   "codemirror_mode": {
    "name": "ipython",
    "version": 3
   },
   "file_extension": ".py",
   "mimetype": "text/x-python",
   "name": "python",
   "nbconvert_exporter": "python",
   "pygments_lexer": "ipython3",
   "version": "3.8.16"
  }
 },
 "nbformat": 4,
 "nbformat_minor": 5
}
