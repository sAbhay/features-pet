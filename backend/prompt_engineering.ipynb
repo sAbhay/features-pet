{
 "cells": [
  {
   "cell_type": "code",
   "execution_count": 2,
   "id": "9174d24a-8705-4882-aeb8-1f9549a60e82",
   "metadata": {},
   "outputs": [
    {
     "name": "stdout",
     "output_type": "stream",
     "text": [
      "{'gpt3': {'daily': Usage(period='2023-2-27', used=312, quota=None), 'monthly': Usage(period='2023-2', used=2610, quota=None), 'total': Usage(period='all', used=2610, quota=1250000)}, 'codex': {'daily': Usage(period=None, used=0, quota=0)}, 'jurassic': {'daily': Usage(period=None, used=0, quota=0)}, 'gooseai': {'daily': Usage(period=None, used=0, quota=0)}, 'cohere': {'daily': Usage(period=None, used=0, quota=10000)}, 'dall_e': {'daily': Usage(period=None, used=0, quota=5)}, 'together_vision': {'daily': Usage(period=None, used=0, quota=30)}}\n"
     ]
    }
   ],
   "source": [
    "import getpass\n",
    "\n",
    "from helm.common.authentication import Authentication\n",
    "from helm.common.perspective_api_request import PerspectiveAPIRequest, PerspectiveAPIRequestResult\n",
    "from helm.common.request import Request, RequestResult\n",
    "from helm.common.tokenization_request import TokenizationRequest, TokenizationRequestResult\n",
    "from helm.proxy.accounts import Account\n",
    "from helm.proxy.services.remote_service import RemoteService\n",
    "\n",
    "import api_gen\n",
    "import verify"
   ]
  },
  {
   "cell_type": "code",
   "execution_count": 2,
   "id": "6f5bdb48-655a-40f1-b7a6-904c1ed5d633",
   "metadata": {},
   "outputs": [
    {
     "ename": "RemoteServiceError",
     "evalue": "EXCEPTION: Invalid API key \n  File \"/home/benchmarking/src/helm/proxy/server.py\", line 54, in safe_call\n    result = func(params)\n\n  File \"/home/benchmarking/src/helm/proxy/server.py\", line 121, in perform\n    return [dataclasses.asdict(service.get_account(auth))]\n\n  File \"/home/benchmarking/src/helm/proxy/services/server_service.py\", line 147, in get_account\n    return self.accounts.get_account(auth)\n\n  File \"/home/benchmarking/src/helm/proxy/accounts.py\", line 179, in get_account\n    self._authenticate_with_cache(auth, cache)\n\n  File \"/home/benchmarking/src/helm/proxy/accounts.py\", line 154, in _authenticate_with_cache\n    raise AuthenticationError(f\"Invalid API key {auth.api_key}\")\n",
     "output_type": "error",
     "traceback": [
      "\u001B[0;31m---------------------------------------------------------------------------\u001B[0m",
      "\u001B[0;31mRemoteServiceError\u001B[0m                        Traceback (most recent call last)",
      "Cell \u001B[0;32mIn[2], line 7\u001B[0m\n\u001B[1;32m      4\u001B[0m service \u001B[38;5;241m=\u001B[39m RemoteService(\u001B[38;5;124m\"\u001B[39m\u001B[38;5;124mhttps://crfm-models.stanford.edu\u001B[39m\u001B[38;5;124m\"\u001B[39m)\n\u001B[1;32m      6\u001B[0m \u001B[38;5;66;03m# Access account and show my current quotas and usages\u001B[39;00m\n\u001B[0;32m----> 7\u001B[0m account: Account \u001B[38;5;241m=\u001B[39m \u001B[43mservice\u001B[49m\u001B[38;5;241;43m.\u001B[39;49m\u001B[43mget_account\u001B[49m\u001B[43m(\u001B[49m\u001B[43mauth\u001B[49m\u001B[43m)\u001B[49m\n\u001B[1;32m      8\u001B[0m \u001B[38;5;28mprint\u001B[39m(account\u001B[38;5;241m.\u001B[39musages)\n",
      "File \u001B[0;32m~/opt/anaconda3/envs/decodable-text/lib/python3.8/site-packages/helm/proxy/services/remote_service.py:114\u001B[0m, in \u001B[0;36mRemoteService.get_account\u001B[0;34m(self, auth)\u001B[0m\n\u001B[1;32m    112\u001B[0m params \u001B[38;5;241m=\u001B[39m {\u001B[38;5;124m\"\u001B[39m\u001B[38;5;124mauth\u001B[39m\u001B[38;5;124m\"\u001B[39m: json\u001B[38;5;241m.\u001B[39mdumps(asdict(auth))}\n\u001B[1;32m    113\u001B[0m response \u001B[38;5;241m=\u001B[39m requests\u001B[38;5;241m.\u001B[39mget(\u001B[38;5;124mf\u001B[39m\u001B[38;5;124m\"\u001B[39m\u001B[38;5;132;01m{\u001B[39;00m\u001B[38;5;28mself\u001B[39m\u001B[38;5;241m.\u001B[39mbase_url\u001B[38;5;132;01m}\u001B[39;00m\u001B[38;5;124m/api/account?\u001B[39m\u001B[38;5;132;01m{\u001B[39;00murllib\u001B[38;5;241m.\u001B[39mparse\u001B[38;5;241m.\u001B[39murlencode(params)\u001B[38;5;132;01m}\u001B[39;00m\u001B[38;5;124m\"\u001B[39m)\u001B[38;5;241m.\u001B[39mjson()\n\u001B[0;32m--> 114\u001B[0m \u001B[43mRemoteService\u001B[49m\u001B[38;5;241;43m.\u001B[39;49m\u001B[43m_check_response\u001B[49m\u001B[43m(\u001B[49m\u001B[43mresponse\u001B[49m\u001B[43m)\u001B[49m\n\u001B[1;32m    115\u001B[0m \u001B[38;5;28;01mreturn\u001B[39;00m from_dict(Account, response[\u001B[38;5;241m0\u001B[39m])\n",
      "File \u001B[0;32m~/opt/anaconda3/envs/decodable-text/lib/python3.8/site-packages/helm/proxy/services/remote_service.py:38\u001B[0m, in \u001B[0;36mRemoteService._check_response\u001B[0;34m(response, request)\u001B[0m\n\u001B[1;32m     35\u001B[0m \u001B[38;5;28;01mif\u001B[39;00m request:\n\u001B[1;32m     36\u001B[0m     error_message \u001B[38;5;241m+\u001B[39m\u001B[38;5;241m=\u001B[39m \u001B[38;5;124mf\u001B[39m\u001B[38;5;124m\"\u001B[39m\u001B[38;5;124m Request: \u001B[39m\u001B[38;5;132;01m{\u001B[39;00mrequest\u001B[38;5;132;01m}\u001B[39;00m\u001B[38;5;124m\"\u001B[39m\n\u001B[0;32m---> 38\u001B[0m \u001B[38;5;28;01mraise\u001B[39;00m RemoteServiceError(error_message)\n",
      "\u001B[0;31mRemoteServiceError\u001B[0m: EXCEPTION: Invalid API key \n  File \"/home/benchmarking/src/helm/proxy/server.py\", line 54, in safe_call\n    result = func(params)\n\n  File \"/home/benchmarking/src/helm/proxy/server.py\", line 121, in perform\n    return [dataclasses.asdict(service.get_account(auth))]\n\n  File \"/home/benchmarking/src/helm/proxy/services/server_service.py\", line 147, in get_account\n    return self.accounts.get_account(auth)\n\n  File \"/home/benchmarking/src/helm/proxy/accounts.py\", line 179, in get_account\n    self._authenticate_with_cache(auth, cache)\n\n  File \"/home/benchmarking/src/helm/proxy/accounts.py\", line 154, in _authenticate_with_cache\n    raise AuthenticationError(f\"Invalid API key {auth.api_key}\")\n"
     ]
    }
   ],
   "source": [
    "# An example of how to use the request API.\n",
    "api_key = getpass.getpass(prompt=\"Enter a valid API key: \")\n",
    "auth = Authentication(api_key=api_key)\n",
    "service = RemoteService(\"https://crfm-models.stanford.edu\")\n",
    "\n",
    "# Access account and show my current quotas and usages\n",
    "account: Account = service.get_account(auth)\n",
    "print(account.usages)"
   ]
  },
  {
   "cell_type": "code",
   "execution_count": 5,
   "id": "6e99377b-75f9-48e5-bc96-6b1e07f62dfa",
   "metadata": {},
   "outputs": [
    {
     "name": "stdout",
     "output_type": "stream",
     "text": [
      "Generate a passage to help teach second graders how to read with decodable text. The purpose of this reading is to reinforce the understanding of the phonemes in 'ing'. Generate a coherent short story with a lot of 'ing' words that a teacher can use.\n",
      "\n",
      "Once upon a time there was a little pig named Bing. He lived on a farm with his three brothers, King, Ring, and Ding.\n",
      "\n",
      "Bing loved to sing and play games, but his brothers weren't very into singing. They preferred to swing and ring bells.\n",
      "\n",
      "One summer day, the brothers decided to go fishing in the pond. Bing was excited to catch some fish, but his brothers were more interested in sending their tiny toy boats sailing around the pond.\n"
     ]
    }
   ],
   "source": [
    "prompt = \"Generate a passage to help teach second graders how to read with decodable text. The purpose of this reading is to reinforce the understanding of the phonemes in 'ing'. Generate a coherent short story with a lot of 'ing' words that a teacher can use.\"\n",
    "\n",
    "# Make a request\n",
    "request = Request(model=\"openai/text-davinci-003\", prompt=prompt, echo_prompt=True)\n",
    "request_result: RequestResult = service.make_request(auth, request)\n",
    "print(request_result.completions[0].text)"
   ]
  },
  {
   "cell_type": "code",
   "execution_count": 10,
   "id": "d76419ce-2974-4541-a7d9-9a3157cfc06e",
   "metadata": {},
   "outputs": [
    {
     "name": "stdout",
     "output_type": "stream",
     "text": [
      "Generate a passage to help teach second graders how to read with decodable text. The purpose of this reading is to reinforce the understanding of the phonemes in 'ing'. Generate a coherent story with a lot of 'ing' words that a teacher can use.\n",
      "\n",
      "Once upon a time there was a brave knight named King who lived in a castle far, far away. His kingdom was known as the Kingdom of Wing. King was a kind-hearted knight who cared deeply for his people. He wanted to make sure they were safe and happy. \n",
      "\n",
      "Every day, King went on patrols around the borders of his kingdom to keep it safe. He rode his horse, Ring, and had his trusty sword, Sting. He would travel along the\n"
     ]
    }
   ],
   "source": [
    "prompt = \"Generate a passage to help teach second graders how to read with decodable text. The purpose of this reading is to reinforce the understanding of the phonemes in 'ing'. Generate a coherent story with a lot of 'ing' words that a teacher can use.\"\n",
    "\n",
    "# Make a request\n",
    "request = Request(model=\"openai/text-davinci-003\", prompt=prompt, echo_prompt=True)\n",
    "request_result: RequestResult = service.make_request(auth, request)\n",
    "print(request_result.completions[0].text)"
   ]
  },
  {
   "cell_type": "code",
   "execution_count": 13,
   "id": "ddb6b2a2-2fc0-45af-b2aa-1778ef01aac8",
   "metadata": {
    "collapsed": true,
    "jupyter": {
     "outputs_hidden": true
    },
    "tags": []
   },
   "outputs": [
    {
     "name": "stdout",
     "output_type": "stream",
     "text": [
      "Generate a passage to help teach second graders how to read with decodable text. The purpose of this reading is to reinforce the understanding of the phonemes in 'ing'. Generate a coherent story with many 'ing' words that a teacher can use. Complete the following story with the aforementioned requirements: Once upon a time there was a brave knight named King who lived in a castle far, far away. His kingdom was known as the Kingdom of Wing. King was a kind-hearted knight who cared deeply for his people. He wanted to make sure they were safe and happy. Every day, King went on patrols around the borders of his kingdom to keep it safe. He rode his horse, Ring, and had his trusty sword, Sting. He would travel along the winding paths and through the tall rolling hills. As he rode, he could hear the birds singing, the wind whistling, and the water flowing. He noticed that the flowers in his kingdom were blooming and the grass was growing. Everywhere he looked, he saw animals and plants living in harmony. All the creatures just seemed to know that King was their protector. When he returned to his castle, King was always ready to read to his people. He wanted to help them learn to read, so\n"
     ]
    }
   ],
   "source": [
    "prompt = \"Generate a passage to help teach second graders how to read with decodable text. The purpose of this reading is to reinforce the understanding of the phonemes in 'ing'. Generate a coherent story with many 'ing' words that a teacher can use. Complete the following story with the aforementioned requirements: Once upon a time there was a brave knight named King who lived in a castle far, far away. His kingdom was known as the Kingdom of Wing. King was a kind-hearted knight who cared deeply for his people. He wanted to make sure they were safe and happy. Every day, King went on patrols around the borders of his kingdom to keep it safe. He rode his horse, Ring, and had his trusty sword, Sting. He would travel along the\"\n",
    "\n",
    "# Make a request\n",
    "request = Request(model=\"openai/text-davinci-003\", prompt=prompt, echo_prompt=True)\n",
    "request_result: RequestResult = service.make_request(auth, request)\n",
    "print(request_result.completions[0].text)"
   ]
  },
  {
   "cell_type": "code",
   "execution_count": 3,
   "outputs": [
    {
     "name": "stdout",
     "output_type": "stream",
     "text": [
      "\n",
      "\n",
      "Once Pam saw Off.\n",
      "My dad had a fan.\n",
      "She was sad and ran.\n",
      "But then she saw an old man.\n",
      "He dug and dug with a can.\n",
      "He had a chug, it was his plan.\n",
      "The ship was near, it was thin.\n",
      "Dad had a dog, it could swim.\n",
      "He had a bed, filled with hay.\n",
      "Pam liked to play in the bay.\n",
      "\n",
      "It was fun to fill the cup\n"
     ]
    }
   ],
   "source": [
    "prompt = \"Create a decodable text passage of approximately 200 words. Each word should have a maximum of 2 syllables. The lexile level should be: 200. The passage should help readers learn the following: Words with short vowel sounds (like dog, bed, cat, cup, and dig), consonant digraphs (like chug, ship, and thin), and -am and-an words (like ham, fan, man, and Pam) . The following words are sight words: off, my, has.\"\n",
    "\n",
    "passage = api_gen.generate_from_prompt(prompt)\n",
    "print(passage)"
   ],
   "metadata": {
    "collapsed": false
   }
  },
  {
   "cell_type": "code",
   "execution_count": 4,
   "outputs": [
    {
     "name": "stdout",
     "output_type": "stream",
     "text": [
      "wəns pæm sɔ ɔf. maɪ dæd hæd ə fæn. ʃi wɑz sæd ənd ræn. bət ðɛn ʃi sɔ ən oʊld mæn. hi dəg ənd dəg wɪθ ə kən. hi hæd ə ʧəg, ɪt wɑz hɪz plæn. ðə ʃɪp wɑz nɪr, ɪt wɑz θɪn. dæd hæd ə dɔg, ɪt kʊd swɪm. hi hæd ə bɛd, fɪld wɪθ heɪ. pæm laɪkt tɪ pleɪ ɪn ðə beɪ. ɪt wɑz fən tɪ fɪl ðə kəp\n"
     ]
    }
   ],
   "source": [
    "phonemes = verify.to_phoneme(passage)\n",
    "print(phonemes)"
   ],
   "metadata": {
    "collapsed": false
   }
  },
  {
   "cell_type": "code",
   "execution_count": 5,
   "outputs": [
    {
     "name": "stderr",
     "output_type": "stream",
     "text": [
      "Some weights of the model checkpoint at bert-base-uncased were not used when initializing BertModel: ['cls.predictions.transform.dense.weight', 'cls.predictions.transform.LayerNorm.weight', 'cls.predictions.decoder.weight', 'cls.predictions.bias', 'cls.predictions.transform.LayerNorm.bias', 'cls.predictions.transform.dense.bias', 'cls.seq_relationship.weight', 'cls.seq_relationship.bias']\n",
      "- This IS expected if you are initializing BertModel from the checkpoint of a model trained on another task or with another architecture (e.g. initializing a BertForSequenceClassification model from a BertForPreTraining model).\n",
      "- This IS NOT expected if you are initializing BertModel from the checkpoint of a model that you expect to be exactly identical (initializing a BertForSequenceClassification model from a BertForSequenceClassification model).\n"
     ]
    },
    {
     "name": "stdout",
     "output_type": "stream",
     "text": [
      "['W', 'AH', 'N', 'S', ' ', 'P', 'AE', 'M', ' ', 'S', 'AO', ' ', 'AO', 'F', 'M', 'IY', ' ', 'D', 'AE', 'D', ' ', 'HH', 'AE', 'D', ' ', 'AH', ' ', 'F', 'AE', 'N', 'SH', ' ', 'W', 'AA', 'Z', ' ', 'S', 'AE', 'D', ' ', 'AH', 'N', 'D', ' ', 'R', 'AE', 'N', 'B', 'AH', 'T', ' ', 'DH', 'EH', 'N', ' ', 'SH', 'IY', ' ', 'S', 'AO', ' ', 'AE', 'N', ' ', 'OW', 'L', 'D', ' ', 'M', 'AE', 'N', 'HH', 'IY', ' ', 'D', 'AH', 'G', ' ', 'AH', 'N', 'D', ' ', 'D', 'AH', 'G', ' ', 'W', 'IH', 'DH', ' ', 'AH', ' ', 'K', 'AE', 'N', ' ', 'HH', 'AE', 'D', ' ', 'AH', ' ', 'CH', 'AH', 'G', ' ', 'IH', 'T', ' ', 'W', 'AA', 'Z', ' ', 'HH', 'IH', 'Z', ' ', 'P', 'L', 'AE', 'N', 'DH', 'AH', ' ', 'SH', 'IH', 'P', ' ', 'W', 'AA', 'Z', ' ', 'N', 'IH', 'R', ' ', 'IH', 'T', ' ', 'W', 'AA', 'Z', ' ', 'TH', 'IH', 'N', 'D', 'AH', 'D', ' ', 'HH', 'AE', 'D', ' ', 'AH', ' ', 'D', 'AO', 'G', ' ', 'IH', 'T', ' ', 'K', 'UH', 'D', ' ', 'S', 'W', 'AY', 'M', ' ', 'HH', 'AE', 'D', ' ', 'AH', ' ', 'B', 'EH', 'D', ' ', 'F', 'IH', 'L', 'D', ' ', 'W', 'IH', 'DH', ' ', 'HH', 'EY', 'P', 'AE', 'M', ' ', 'L', 'AY', 'K', 'T', ' ', 'T', 'UW', ' ', 'P', 'L', 'EY', ' ', 'IH', 'N', ' ', 'DH', 'AH', ' ', 'B', 'EY', 'IH', 'T', ' ', 'W', 'AA', 'Z', ' ', 'F', 'AH', 'N', ' ', 'T', 'UW', ' ', 'F', 'IH', 'L', ' ', 'DH', 'AH', ' ', 'K', 'AH', 'P']\n"
     ]
    }
   ],
   "source": [
    "sounds = verify.to_sounds(passage)\n",
    "print(sounds)"
   ],
   "metadata": {
    "collapsed": false
   }
  },
  {
   "cell_type": "code",
   "execution_count": null,
   "outputs": [],
   "source": [],
   "metadata": {
    "collapsed": false
   }
  }
 ],
 "metadata": {
  "kernelspec": {
   "display_name": "Python 3 (ipykernel)",
   "language": "python",
   "name": "python3"
  },
  "language_info": {
   "codemirror_mode": {
    "name": "ipython",
    "version": 3
   },
   "file_extension": ".py",
   "mimetype": "text/x-python",
   "name": "python",
   "nbconvert_exporter": "python",
   "pygments_lexer": "ipython3",
   "version": "3.8.16"
  }
 },
 "nbformat": 4,
 "nbformat_minor": 5
}
