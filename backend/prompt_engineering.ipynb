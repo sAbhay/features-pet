{
 "cells": [
  {
   "cell_type": "code",
   "execution_count": 5,
   "id": "9174d24a-8705-4882-aeb8-1f9549a60e82",
   "metadata": {},
   "outputs": [],
   "source": [
    "import getpass\n",
    "\n",
    "from helm.common.authentication import Authentication\n",
    "from helm.common.perspective_api_request import PerspectiveAPIRequest, PerspectiveAPIRequestResult\n",
    "from helm.common.request import Request, RequestResult\n",
    "from helm.common.tokenization_request import TokenizationRequest, TokenizationRequestResult\n",
    "from helm.proxy.accounts import Account\n",
    "from helm.proxy.services.remote_service import RemoteService\n",
    "\n",
    "import api_gen\n",
    "import verify"
   ]
  },
  {
   "cell_type": "code",
   "execution_count": 2,
   "id": "6f5bdb48-655a-40f1-b7a6-904c1ed5d633",
   "metadata": {},
   "outputs": [
    {
     "name": "stdout",
     "output_type": "stream",
     "text": [
      "{'gpt3': {'daily': Usage(period=None, used=0, quota=None), 'monthly': Usage(period=None, used=0, quota=None), 'total': Usage(period=None, used=0, quota=1250000)}, 'codex': {'daily': Usage(period=None, used=0, quota=0)}, 'jurassic': {'daily': Usage(period=None, used=0, quota=0)}, 'gooseai': {'daily': Usage(period=None, used=0, quota=0)}, 'cohere': {'daily': Usage(period=None, used=0, quota=10000)}, 'dall_e': {'daily': Usage(period=None, used=0, quota=5)}, 'together_vision': {'daily': Usage(period=None, used=0, quota=30)}}\n"
     ]
    }
   ],
   "source": [
    "# An example of how to use the request API.\n",
    "api_key = getpass.getpass(prompt=\"Enter a valid API key: \")\n",
    "auth = Authentication(api_key=api_key)\n",
    "service = RemoteService(\"https://crfm-models.stanford.edu\")\n",
    "\n",
    "# Access account and show my current quotas and usages\n",
    "account: Account = service.get_account(auth)\n",
    "print(account.usages)"
   ]
  },
  {
   "cell_type": "code",
   "execution_count": 5,
   "id": "6e99377b-75f9-48e5-bc96-6b1e07f62dfa",
   "metadata": {},
   "outputs": [
    {
     "name": "stdout",
     "output_type": "stream",
     "text": [
      "Generate a passage to help teach second graders how to read with decodable text. The purpose of this reading is to reinforce the understanding of the phonemes in 'ing'. Generate a coherent short story with a lot of 'ing' words that a teacher can use.\n",
      "\n",
      "Once upon a time there was a little pig named Bing. He lived on a farm with his three brothers, King, Ring, and Ding.\n",
      "\n",
      "Bing loved to sing and play games, but his brothers weren't very into singing. They preferred to swing and ring bells.\n",
      "\n",
      "One summer day, the brothers decided to go fishing in the pond. Bing was excited to catch some fish, but his brothers were more interested in sending their tiny toy boats sailing around the pond.\n"
     ]
    }
   ],
   "source": [
    "prompt = \"Generate a passage to help teach second graders how to read with decodable text. The purpose of this reading is to reinforce the understanding of the phonemes in 'ing'. Generate a coherent short story with a lot of 'ing' words that a teacher can use.\"\n",
    "\n",
    "# Make a request\n",
    "request = Request(model=\"openai/text-davinci-003\", prompt=prompt, echo_prompt=True)\n",
    "request_result: RequestResult = service.make_request(auth, request)\n",
    "print(request_result.completions[0].text)"
   ]
  },
  {
   "cell_type": "code",
   "execution_count": 10,
   "id": "d76419ce-2974-4541-a7d9-9a3157cfc06e",
   "metadata": {},
   "outputs": [
    {
     "name": "stdout",
     "output_type": "stream",
     "text": [
      "Generate a passage to help teach second graders how to read with decodable text. The purpose of this reading is to reinforce the understanding of the phonemes in 'ing'. Generate a coherent story with a lot of 'ing' words that a teacher can use.\n",
      "\n",
      "Once upon a time there was a brave knight named King who lived in a castle far, far away. His kingdom was known as the Kingdom of Wing. King was a kind-hearted knight who cared deeply for his people. He wanted to make sure they were safe and happy. \n",
      "\n",
      "Every day, King went on patrols around the borders of his kingdom to keep it safe. He rode his horse, Ring, and had his trusty sword, Sting. He would travel along the\n"
     ]
    }
   ],
   "source": [
    "prompt = \"Generate a passage to help teach second graders how to read with decodable text. The purpose of this reading is to reinforce the understanding of the phonemes in 'ing'. Generate a coherent story with a lot of 'ing' words that a teacher can use.\"\n",
    "\n",
    "# Make a request\n",
    "request = Request(model=\"openai/text-davinci-003\", prompt=prompt, echo_prompt=True)\n",
    "request_result: RequestResult = service.make_request(auth, request)\n",
    "print(request_result.completions[0].text)"
   ]
  },
  {
   "cell_type": "code",
   "execution_count": 13,
   "id": "ddb6b2a2-2fc0-45af-b2aa-1778ef01aac8",
   "metadata": {
    "collapsed": true,
    "jupyter": {
     "outputs_hidden": true
    },
    "tags": []
   },
   "outputs": [
    {
     "name": "stdout",
     "output_type": "stream",
     "text": [
      "Generate a passage to help teach second graders how to read with decodable text. The purpose of this reading is to reinforce the understanding of the phonemes in 'ing'. Generate a coherent story with many 'ing' words that a teacher can use. Complete the following story with the aforementioned requirements: Once upon a time there was a brave knight named King who lived in a castle far, far away. His kingdom was known as the Kingdom of Wing. King was a kind-hearted knight who cared deeply for his people. He wanted to make sure they were safe and happy. Every day, King went on patrols around the borders of his kingdom to keep it safe. He rode his horse, Ring, and had his trusty sword, Sting. He would travel along the winding paths and through the tall rolling hills. As he rode, he could hear the birds singing, the wind whistling, and the water flowing. He noticed that the flowers in his kingdom were blooming and the grass was growing. Everywhere he looked, he saw animals and plants living in harmony. All the creatures just seemed to know that King was their protector. When he returned to his castle, King was always ready to read to his people. He wanted to help them learn to read, so\n"
     ]
    }
   ],
   "source": [
    "prompt = \"Generate a passage to help teach second graders how to read with decodable text. The purpose of this reading is to reinforce the understanding of the phonemes in 'ing'. Generate a coherent story with many 'ing' words that a teacher can use. Complete the following story with the aforementioned requirements: Once upon a time there was a brave knight named King who lived in a castle far, far away. His kingdom was known as the Kingdom of Wing. King was a kind-hearted knight who cared deeply for his people. He wanted to make sure they were safe and happy. Every day, King went on patrols around the borders of his kingdom to keep it safe. He rode his horse, Ring, and had his trusty sword, Sting. He would travel along the\"\n",
    "\n",
    "# Make a request\n",
    "request = Request(model=\"openai/text-davinci-003\", prompt=prompt, echo_prompt=True)\n",
    "request_result: RequestResult = service.make_request(auth, request)\n",
    "print(request_result.completions[0].text)"
   ]
  },
  {
   "cell_type": "code",
   "execution_count": 6,
   "outputs": [
    {
     "name": "stdout",
     "output_type": "stream",
     "text": [
      "Create a decodable text passage of approximately 200 words. Each word should have a maximum of 2 syllables. The lexile level should be: 200. The passage should help readers learn the following: Words with short vowel sounds (like dog, bed, cat, cup, and dig), consonant digraphs (like chug, ship, and thin), and -am and-an words (like ham, fan, man, and Pam) . The following words are sight words: off, my, has.\n",
      "\n",
      "My cat has a fan. He sits off to the side and chugs. He takes a sip and then digs the dirt. The cup he has is thin and he digs for a ham. The ham has a man in its bed. He fan the dirt away and then he ship. The man and the cat play a game. Pam and my cat get along. They play until the fan turns off. Then my cat sets off for his bed. He starts to dig and chug\n"
     ]
    },
    {
     "name": "stderr",
     "output_type": "stream",
     "text": [
      "Some weights of the model checkpoint at bert-base-uncased were not used when initializing BertModel: ['cls.predictions.transform.LayerNorm.bias', 'cls.seq_relationship.weight', 'cls.predictions.bias', 'cls.predictions.decoder.weight', 'cls.predictions.transform.dense.weight', 'cls.predictions.transform.LayerNorm.weight', 'cls.predictions.transform.dense.bias', 'cls.seq_relationship.bias']\n",
      "- This IS expected if you are initializing BertModel from the checkpoint of a model trained on another task or with another architecture (e.g. initializing a BertForSequenceClassification model from a BertForPreTraining model).\n",
      "- This IS NOT expected if you are initializing BertModel from the checkpoint of a model that you expect to be exactly identical (initializing a BertForSequenceClassification model from a BertForSequenceClassification model).\n"
     ]
    },
    {
     "name": "stdout",
     "output_type": "stream",
     "text": [
      "['K', 'R', 'IY', 'EY', 'T', ' ', 'AH', ' ', 'D', 'IH', 'K', 'AA', 'D', 'AH', 'B', 'AH', 'L', ' ', 'T', 'EH', 'K', 'S', 'T', ' ', 'P', 'AE', 'S', 'AH', 'JH', ' ', 'AH', 'V', ' ', 'AH', 'P', 'R', 'AA', 'K', 'S', 'AH', 'M', 'AH', 'T', 'L', 'IY', ' ', 'W', 'ER', 'D', 'Z', ' ', 'IY', 'CH', ' ', 'W', 'ER', 'D', ' ', 'SH', 'UH', 'D', ' ', 'HH', 'AE', 'V', ' ', 'AH', ' ', 'M', 'AE', 'K', 'S', 'AH', 'M', 'AH', 'M', ' ', 'AH', 'V', ' ', 'S', 'IH', 'L', 'AH', 'B', 'AH', 'L', 'Z', ' ', 'DH', 'AH', ' ', 'L', 'EH', 'K', 'S', 'AY', 'L', ' ', 'L', 'EH', 'V', 'AH', 'L', ' ', 'SH', 'UH', 'D', ' ', 'B', 'IY', ' ', 'DH', 'AH', ' ', 'P', 'AE', 'S', 'AH', 'JH', ' ', 'SH', 'UH', 'D', ' ', 'HH', 'EH', 'L', 'P', ' ', 'R', 'IY', 'D', 'ER', 'Z', ' ', 'L', 'ER', 'N', ' ', 'DH', 'AH', ' ', 'F', 'AA', 'L', 'OW', 'IH', 'NG', ' ', 'W', 'ER', 'D', 'Z', ' ', 'W', 'IH', 'DH', ' ', 'SH', 'AO', 'R', 'T', ' ', 'V', 'AW', 'AH', 'L', ' ', 'S', 'AW', 'N', 'D', 'Z', ' ', 'L', 'AY', 'K', ' ', 'D', 'AO', 'G', ' ', 'B', 'EH', 'D', ' ', 'K', 'AE', 'T', ' ', 'K', 'AH', 'P', ' ', 'AH', 'N', 'D', ' ', 'D', 'IH', 'G', ' ', 'K', 'AA', 'N', 'S', 'AH', 'N', 'AH', 'N', 'T', ' ', 'D', 'AY', 'G', 'R', 'AE', 'F', 'S', ' ', 'L', 'AY', 'K', ' ', 'CH', 'AH', 'G', ' ', 'SH', 'IH', 'P', ' ', 'AH', 'N', 'D', ' ', 'TH', 'IH', 'N', ' ', 'AH', 'N', 'D', ' ', 'AE', 'M', ' ', 'AE', 'N', 'D', 'AH', 'N', ' ', 'W', 'ER', 'D', 'Z', ' ', 'L', 'AY', 'K', ' ', 'HH', 'AE', 'M', ' ', 'F', 'AE', 'N', ' ', 'M', 'AE', 'N', ' ', 'AH', 'N', 'D', ' ', 'P', 'AE', 'M', ' ', 'DH', 'AH', ' ', 'F', 'AA', 'L', 'OW', 'IH', 'NG', ' ', 'W', 'ER', 'D', 'Z', ' ', 'AA', 'R', ' ', 'S', 'AY', 'T', ' ', 'W', 'ER', 'D', 'Z', ' ', 'AO', 'F', ' ', 'M', 'AY', ' ', 'HH', 'AE', 'S', 'M', 'IY', ' ', 'K', 'AE', 'T', ' ', 'HH', 'AE', 'Z', ' ', 'AH', ' ', 'F', 'AE', 'N', ' ', 'HH', 'IY', ' ', 'S', 'IH', 'T', 'S', ' ', 'AO', 'F', ' ', 'T', 'UW', ' ', 'DH', 'AH', ' ', 'S', 'AY', 'D', ' ', 'AH', 'N', 'D', ' ', 'CH', 'AH', 'G', 'Z', ' ', 'HH', 'IY', ' ', 'T', 'EY', 'K', 'S', ' ', 'AH', ' ', 'S', 'IH', 'P', ' ', 'AH', 'N', 'D', ' ', 'DH', 'EH', 'N', ' ', 'D', 'IH', 'G', 'Z', ' ', 'DH', 'AH', ' ', 'D', 'ER', 'T', ' ', 'DH', 'AH', ' ', 'K', 'AH', 'P', ' ', 'HH', 'IY', ' ', 'HH', 'AE', 'Z', ' ', 'IH', 'Z', ' ', 'TH', 'IH', 'N', ' ', 'AH', 'N', 'D', ' ', 'HH', 'IY', ' ', 'D', 'IH', 'G', 'Z', ' ', 'F', 'AO', 'R', ' ', 'AH', ' ', 'HH', 'AE', 'M', ' ', 'DH', 'AH', ' ', 'HH', 'AE', 'M', ' ', 'HH', 'AE', 'Z', ' ', 'AH', ' ', 'M', 'AE', 'N', ' ', 'IH', 'N', ' ', 'IH', 'T', 'S', ' ', 'B', 'EH', 'D', ' ', 'HH', 'IY', ' ', 'F', 'AE', 'N', ' ', 'DH', 'AH', ' ', 'D', 'ER', 'T', ' ', 'AH', 'W', 'EY', ' ', 'AH', 'N', 'D', ' ', 'DH', 'EH', 'N', ' ', 'HH', 'IY', ' ', 'SH', 'IH', 'P', ' ', 'DH', 'AH', ' ', 'M', 'AE', 'N', ' ', 'AH', 'N', 'D', ' ', 'DH', 'AH', ' ', 'K', 'AE', 'T', ' ', 'P', 'L', 'EY', ' ', 'AH', ' ', 'G', 'EY', 'M', ' ', 'P', 'AE', 'M', ' ', 'AH', 'N', 'D', ' ', 'M', 'AY', ' ', 'K', 'AE', 'T', ' ', 'G', 'EH', 'T', ' ', 'AH', 'L', 'AO', 'NG', ' ', 'DH', 'EY', ' ', 'P', 'L', 'EY', ' ', 'AH', 'N', 'T', 'IH', 'L', ' ', 'DH', 'AH', ' ', 'F', 'AE', 'N', ' ', 'T', 'ER', 'N', 'Z', ' ', 'AO', 'F', ' ', 'DH', 'EH', 'N', ' ', 'M', 'AY', ' ', 'K', 'AE', 'T', ' ', 'S', 'EH', 'T', 'S', ' ', 'AO', 'F', ' ', 'F', 'AO', 'R', ' ', 'HH', 'IH', 'Z', ' ', 'B', 'EH', 'D', ' ', 'HH', 'IY', ' ', 'S', 'T', 'AA', 'R', 'T', 'S', ' ', 'T', 'UW', ' ', 'D', 'IH', 'G', ' ', 'AH', 'N', 'D', ' ', 'CH', 'AH', 'G']\n"
     ]
    }
   ],
   "source": [
    "prompt = \"Create a decodable text passage of approximately 200 words. Each word should have a maximum of 2 syllables. The lexile level should be: 200. The passage should help readers learn the following: Words with short vowel sounds (like dog, bed, cat, cup, and dig), consonant digraphs (like chug, ship, and thin), and -am and-an words (like ham, fan, man, and Pam) . The following words are sight words: off, my, has.\"\n",
    "\n",
    "passage = api_gen.generate_from_prompt(prompt)\n",
    "print(passage)\n",
    "\n",
    "phonemes = verify.to_phoneme(passage)\n",
    "print(phonemes)"
   ],
   "metadata": {
    "collapsed": false
   }
  },
  {
   "cell_type": "code",
   "execution_count": null,
   "outputs": [],
   "source": [],
   "metadata": {
    "collapsed": false
   }
  }
 ],
 "metadata": {
  "kernelspec": {
   "display_name": "Python 3 (ipykernel)",
   "language": "python",
   "name": "python3"
  },
  "language_info": {
   "codemirror_mode": {
    "name": "ipython",
    "version": 3
   },
   "file_extension": ".py",
   "mimetype": "text/x-python",
   "name": "python",
   "nbconvert_exporter": "python",
   "pygments_lexer": "ipython3",
   "version": "3.8.16"
  }
 },
 "nbformat": 4,
 "nbformat_minor": 5
}
